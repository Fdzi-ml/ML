{
 "cells": [
  {
   "cell_type": "code",
   "execution_count": 15,
   "id": "9b70c056-f6c4-4c68-93a3-efafa54c591f",
   "metadata": {},
   "outputs": [],
   "source": [
    "import numpy as np\n",
    "import pandas as pd\n",
    "import seaborn as sns\n",
    "import matplotlib.pyplot as plt\n",
    "from sklearn.datasets import load_digits"
   ]
  },
  {
   "cell_type": "code",
   "execution_count": 3,
   "id": "37fdd66f-8bf0-455c-8d3b-4e0d7b48aef8",
   "metadata": {},
   "outputs": [],
   "source": [
    "digits=load_digits()"
   ]
  },
  {
   "cell_type": "code",
   "execution_count": 5,
   "id": "41ab2ada-738c-4585-8e75-a1d3aa01dee0",
   "metadata": {},
   "outputs": [
    {
     "data": {
      "text/plain": [
       "{'data': array([[ 0.,  0.,  5., ...,  0.,  0.,  0.],\n",
       "        [ 0.,  0.,  0., ..., 10.,  0.,  0.],\n",
       "        [ 0.,  0.,  0., ..., 16.,  9.,  0.],\n",
       "        ...,\n",
       "        [ 0.,  0.,  1., ...,  6.,  0.,  0.],\n",
       "        [ 0.,  0.,  2., ..., 12.,  0.,  0.],\n",
       "        [ 0.,  0., 10., ..., 12.,  1.,  0.]]),\n",
       " 'target': array([0, 1, 2, ..., 8, 9, 8]),\n",
       " 'frame': None,\n",
       " 'feature_names': ['pixel_0_0',\n",
       "  'pixel_0_1',\n",
       "  'pixel_0_2',\n",
       "  'pixel_0_3',\n",
       "  'pixel_0_4',\n",
       "  'pixel_0_5',\n",
       "  'pixel_0_6',\n",
       "  'pixel_0_7',\n",
       "  'pixel_1_0',\n",
       "  'pixel_1_1',\n",
       "  'pixel_1_2',\n",
       "  'pixel_1_3',\n",
       "  'pixel_1_4',\n",
       "  'pixel_1_5',\n",
       "  'pixel_1_6',\n",
       "  'pixel_1_7',\n",
       "  'pixel_2_0',\n",
       "  'pixel_2_1',\n",
       "  'pixel_2_2',\n",
       "  'pixel_2_3',\n",
       "  'pixel_2_4',\n",
       "  'pixel_2_5',\n",
       "  'pixel_2_6',\n",
       "  'pixel_2_7',\n",
       "  'pixel_3_0',\n",
       "  'pixel_3_1',\n",
       "  'pixel_3_2',\n",
       "  'pixel_3_3',\n",
       "  'pixel_3_4',\n",
       "  'pixel_3_5',\n",
       "  'pixel_3_6',\n",
       "  'pixel_3_7',\n",
       "  'pixel_4_0',\n",
       "  'pixel_4_1',\n",
       "  'pixel_4_2',\n",
       "  'pixel_4_3',\n",
       "  'pixel_4_4',\n",
       "  'pixel_4_5',\n",
       "  'pixel_4_6',\n",
       "  'pixel_4_7',\n",
       "  'pixel_5_0',\n",
       "  'pixel_5_1',\n",
       "  'pixel_5_2',\n",
       "  'pixel_5_3',\n",
       "  'pixel_5_4',\n",
       "  'pixel_5_5',\n",
       "  'pixel_5_6',\n",
       "  'pixel_5_7',\n",
       "  'pixel_6_0',\n",
       "  'pixel_6_1',\n",
       "  'pixel_6_2',\n",
       "  'pixel_6_3',\n",
       "  'pixel_6_4',\n",
       "  'pixel_6_5',\n",
       "  'pixel_6_6',\n",
       "  'pixel_6_7',\n",
       "  'pixel_7_0',\n",
       "  'pixel_7_1',\n",
       "  'pixel_7_2',\n",
       "  'pixel_7_3',\n",
       "  'pixel_7_4',\n",
       "  'pixel_7_5',\n",
       "  'pixel_7_6',\n",
       "  'pixel_7_7'],\n",
       " 'target_names': array([0, 1, 2, 3, 4, 5, 6, 7, 8, 9]),\n",
       " 'images': array([[[ 0.,  0.,  5., ...,  1.,  0.,  0.],\n",
       "         [ 0.,  0., 13., ..., 15.,  5.,  0.],\n",
       "         [ 0.,  3., 15., ..., 11.,  8.,  0.],\n",
       "         ...,\n",
       "         [ 0.,  4., 11., ..., 12.,  7.,  0.],\n",
       "         [ 0.,  2., 14., ..., 12.,  0.,  0.],\n",
       "         [ 0.,  0.,  6., ...,  0.,  0.,  0.]],\n",
       " \n",
       "        [[ 0.,  0.,  0., ...,  5.,  0.,  0.],\n",
       "         [ 0.,  0.,  0., ...,  9.,  0.,  0.],\n",
       "         [ 0.,  0.,  3., ...,  6.,  0.,  0.],\n",
       "         ...,\n",
       "         [ 0.,  0.,  1., ...,  6.,  0.,  0.],\n",
       "         [ 0.,  0.,  1., ...,  6.,  0.,  0.],\n",
       "         [ 0.,  0.,  0., ..., 10.,  0.,  0.]],\n",
       " \n",
       "        [[ 0.,  0.,  0., ..., 12.,  0.,  0.],\n",
       "         [ 0.,  0.,  3., ..., 14.,  0.,  0.],\n",
       "         [ 0.,  0.,  8., ..., 16.,  0.,  0.],\n",
       "         ...,\n",
       "         [ 0.,  9., 16., ...,  0.,  0.,  0.],\n",
       "         [ 0.,  3., 13., ..., 11.,  5.,  0.],\n",
       "         [ 0.,  0.,  0., ..., 16.,  9.,  0.]],\n",
       " \n",
       "        ...,\n",
       " \n",
       "        [[ 0.,  0.,  1., ...,  1.,  0.,  0.],\n",
       "         [ 0.,  0., 13., ...,  2.,  1.,  0.],\n",
       "         [ 0.,  0., 16., ..., 16.,  5.,  0.],\n",
       "         ...,\n",
       "         [ 0.,  0., 16., ..., 15.,  0.,  0.],\n",
       "         [ 0.,  0., 15., ..., 16.,  0.,  0.],\n",
       "         [ 0.,  0.,  2., ...,  6.,  0.,  0.]],\n",
       " \n",
       "        [[ 0.,  0.,  2., ...,  0.,  0.,  0.],\n",
       "         [ 0.,  0., 14., ..., 15.,  1.,  0.],\n",
       "         [ 0.,  4., 16., ..., 16.,  7.,  0.],\n",
       "         ...,\n",
       "         [ 0.,  0.,  0., ..., 16.,  2.,  0.],\n",
       "         [ 0.,  0.,  4., ..., 16.,  2.,  0.],\n",
       "         [ 0.,  0.,  5., ..., 12.,  0.,  0.]],\n",
       " \n",
       "        [[ 0.,  0., 10., ...,  1.,  0.,  0.],\n",
       "         [ 0.,  2., 16., ...,  1.,  0.,  0.],\n",
       "         [ 0.,  0., 15., ..., 15.,  0.,  0.],\n",
       "         ...,\n",
       "         [ 0.,  4., 16., ..., 16.,  6.,  0.],\n",
       "         [ 0.,  8., 16., ..., 16.,  8.,  0.],\n",
       "         [ 0.,  1.,  8., ..., 12.,  1.,  0.]]]),\n",
       " 'DESCR': \".. _digits_dataset:\\n\\nOptical recognition of handwritten digits dataset\\n--------------------------------------------------\\n\\n**Data Set Characteristics:**\\n\\n    :Number of Instances: 1797\\n    :Number of Attributes: 64\\n    :Attribute Information: 8x8 image of integer pixels in the range 0..16.\\n    :Missing Attribute Values: None\\n    :Creator: E. Alpaydin (alpaydin '@' boun.edu.tr)\\n    :Date: July; 1998\\n\\nThis is a copy of the test set of the UCI ML hand-written digits datasets\\nhttps://archive.ics.uci.edu/ml/datasets/Optical+Recognition+of+Handwritten+Digits\\n\\nThe data set contains images of hand-written digits: 10 classes where\\neach class refers to a digit.\\n\\nPreprocessing programs made available by NIST were used to extract\\nnormalized bitmaps of handwritten digits from a preprinted form. From a\\ntotal of 43 people, 30 contributed to the training set and different 13\\nto the test set. 32x32 bitmaps are divided into nonoverlapping blocks of\\n4x4 and the number of on pixels are counted in each block. This generates\\nan input matrix of 8x8 where each element is an integer in the range\\n0..16. This reduces dimensionality and gives invariance to small\\ndistortions.\\n\\nFor info on NIST preprocessing routines, see M. D. Garris, J. L. Blue, G.\\nT. Candela, D. L. Dimmick, J. Geist, P. J. Grother, S. A. Janet, and C.\\nL. Wilson, NIST Form-Based Handprint Recognition System, NISTIR 5469,\\n1994.\\n\\n.. topic:: References\\n\\n  - C. Kaynak (1995) Methods of Combining Multiple Classifiers and Their\\n    Applications to Handwritten Digit Recognition, MSc Thesis, Institute of\\n    Graduate Studies in Science and Engineering, Bogazici University.\\n  - E. Alpaydin, C. Kaynak (1998) Cascading Classifiers, Kybernetika.\\n  - Ken Tang and Ponnuthurai N. Suganthan and Xi Yao and A. Kai Qin.\\n    Linear dimensionalityreduction using relevance weighted LDA. School of\\n    Electrical and Electronic Engineering Nanyang Technological University.\\n    2005.\\n  - Claudio Gentile. A New Approximate Maximal Margin Classification\\n    Algorithm. NIPS. 2000.\\n\"}"
      ]
     },
     "execution_count": 5,
     "metadata": {},
     "output_type": "execute_result"
    }
   ],
   "source": [
    "digits"
   ]
  },
  {
   "cell_type": "code",
   "execution_count": 7,
   "id": "0d85fdc8-3f56-4071-9f0a-40ba0d9bf8d2",
   "metadata": {},
   "outputs": [],
   "source": [
    "x=digits['data']\n",
    "y=digits['target']"
   ]
  },
  {
   "cell_type": "code",
   "execution_count": 49,
   "id": "ba537a54-ae0e-405e-a97c-237a4e0ce4a0",
   "metadata": {},
   "outputs": [
    {
     "name": "stdout",
     "output_type": "stream",
     "text": [
      "6\n"
     ]
    },
    {
     "data": {
      "image/png": "[encoded data removed]",
      "text/plain": [
       "<Figure size 640x480 with 1 Axes>"
      ]
     },
     "metadata": {},
     "output_type": "display_data"
    }
   ],
   "source": [
    "index=np.random.randint(0,x.shape[0])\n",
    "plt.imshow(np.reshape((x[index,:]),(8,8)))\n",
    "print(y[index])"
   ]
  },
  {
   "cell_type": "code",
   "execution_count": 51,
   "id": "0667c52e-36c9-420c-9b52-94ccf7ba6a83",
   "metadata": {},
   "outputs": [],
   "source": [
    "from sklearn.model_selection import train_test_split"
   ]
  },
  {
   "cell_type": "code",
   "execution_count": 53,
   "id": "2a2d9c6a-5626-4322-a9b6-0cb3398e3b82",
   "metadata": {},
   "outputs": [],
   "source": [
    "x_train,x_test,y_train,y_test=train_test_split(x,y)"
   ]
  },
  {
   "cell_type": "code",
   "execution_count": 55,
   "id": "f3a5b143-5ae8-49c1-84d6-5a7bf8a190c0",
   "metadata": {},
   "outputs": [
    {
     "data": {
      "text/plain": [
       "((1347, 64), (1347,))"
      ]
     },
     "execution_count": 55,
     "metadata": {},
     "output_type": "execute_result"
    }
   ],
   "source": [
    "x_train.shape,y_train.shape"
   ]
  },
  {
   "cell_type": "code",
   "execution_count": 69,
   "id": "70b7ca2c-f438-42f5-9ce0-4fbfeaf62f6e",
   "metadata": {},
   "outputs": [],
   "source": [
    "centers={}\n",
    "for i in range(10):\n",
    "    centers[i]=x_train[y_train==i,:].mean(axis=0)"
   ]
  },
  {
   "cell_type": "code",
   "execution_count": 71,
   "id": "8841078b-ee56-4b8a-a35d-4b240315ab91",
   "metadata": {},
   "outputs": [
    {
     "data": {
      "text/plain": [
       "{0: array([0.00000000e+00, 3.00751880e-02, 4.03007519e+00, 1.30601504e+01,\n",
       "        1.13308271e+01, 2.85714286e+00, 3.00751880e-02, 0.00000000e+00,\n",
       "        0.00000000e+00, 8.79699248e-01, 1.21804511e+01, 1.35789474e+01,\n",
       "        1.14511278e+01, 1.12180451e+01, 8.87218045e-01, 0.00000000e+00,\n",
       "        0.00000000e+00, 3.64661654e+00, 1.43007519e+01, 5.49624060e+00,\n",
       "        2.01503759e+00, 1.21278195e+01, 3.37593985e+00, 0.00000000e+00,\n",
       "        0.00000000e+00, 5.11278195e+00, 1.29323308e+01, 2.12030075e+00,\n",
       "        1.42857143e-01, 8.99248120e+00, 6.35338346e+00, 0.00000000e+00,\n",
       "        0.00000000e+00, 5.81954887e+00, 1.16541353e+01, 9.17293233e-01,\n",
       "        5.26315789e-02, 8.76691729e+00, 7.03759398e+00, 0.00000000e+00,\n",
       "        0.00000000e+00, 3.42105263e+00, 1.34360902e+01, 1.84962406e+00,\n",
       "        1.68421053e+00, 1.12105263e+01, 5.88721805e+00, 0.00000000e+00,\n",
       "        0.00000000e+00, 7.81954887e-01, 1.28947368e+01, 1.01203008e+01,\n",
       "        1.02556391e+01, 1.31654135e+01, 2.56390977e+00, 0.00000000e+00,\n",
       "        0.00000000e+00, 7.51879699e-03, 4.02255639e+00, 1.33759398e+01,\n",
       "        1.34436090e+01, 5.71428571e+00, 3.38345865e-01, 0.00000000e+00]),\n",
       " 1: array([0.00000000e+00, 1.39860140e-02, 2.46153846e+00, 9.16083916e+00,\n",
       "        1.04895105e+01, 6.23076923e+00, 9.30069930e-01, 0.00000000e+00,\n",
       "        0.00000000e+00, 6.99300699e-02, 3.95804196e+00, 1.26643357e+01,\n",
       "        1.40279720e+01, 8.72027972e+00, 1.19580420e+00, 0.00000000e+00,\n",
       "        1.39860140e-02, 9.65034965e-01, 7.04195804e+00, 1.49160839e+01,\n",
       "        1.42517483e+01, 7.67832168e+00, 6.85314685e-01, 0.00000000e+00,\n",
       "        6.99300699e-03, 2.13986014e+00, 9.32167832e+00, 1.44475524e+01,\n",
       "        1.37972028e+01, 6.47552448e+00, 4.12587413e-01, 0.00000000e+00,\n",
       "        0.00000000e+00, 1.20279720e+00, 7.00699301e+00, 1.20559441e+01,\n",
       "        1.37202797e+01, 5.75524476e+00, 4.05594406e-01, 0.00000000e+00,\n",
       "        0.00000000e+00, 4.96503497e-01, 5.23776224e+00, 1.04545455e+01,\n",
       "        1.34335664e+01, 5.93706294e+00, 3.63636364e-01, 0.00000000e+00,\n",
       "        0.00000000e+00, 1.25874126e-01, 4.78321678e+00, 1.11188811e+01,\n",
       "        1.36713287e+01, 7.63636364e+00, 1.95104895e+00, 6.29370629e-01,\n",
       "        0.00000000e+00, 6.99300699e-03, 2.29370629e+00, 9.13286713e+00,\n",
       "        1.31188811e+01, 8.51748252e+00, 2.64335664e+00, 1.27972028e+00]),\n",
       " 2: array([0.00000000e+00, 1.00746269e+00, 9.78358209e+00, 1.41268657e+01,\n",
       "        9.81343284e+00, 2.52238806e+00, 1.41791045e-01, 0.00000000e+00,\n",
       "        0.00000000e+00, 5.38805970e+00, 1.38283582e+01, 1.19402985e+01,\n",
       "        1.27313433e+01, 5.65671642e+00, 5.44776119e-01, 0.00000000e+00,\n",
       "        7.46268657e-03, 4.52985075e+00, 7.54477612e+00, 4.10447761e+00,\n",
       "        1.17238806e+01, 6.01492537e+00, 5.52238806e-01, 0.00000000e+00,\n",
       "        0.00000000e+00, 8.35820896e-01, 1.65671642e+00, 4.46268657e+00,\n",
       "        1.21641791e+01, 4.48507463e+00, 2.46268657e-01, 0.00000000e+00,\n",
       "        0.00000000e+00, 5.22388060e-02, 1.19402985e+00, 8.72388060e+00,\n",
       "        1.06268657e+01, 2.23134328e+00, 4.47761194e-02, 0.00000000e+00,\n",
       "        0.00000000e+00, 5.97014925e-01, 5.42537313e+00, 1.19552239e+01,\n",
       "        7.27611940e+00, 2.02985075e+00, 9.77611940e-01, 1.49253731e-02,\n",
       "        2.23880597e-02, 1.54477612e+00, 1.12313433e+01, 1.42164179e+01,\n",
       "        1.21044776e+01, 1.06119403e+01, 7.04477612e+00, 7.38805970e-01,\n",
       "        7.46268657e-03, 9.85074627e-01, 1.01343284e+01, 1.37835821e+01,\n",
       "        1.29626866e+01, 1.16044776e+01, 8.00746269e+00, 1.90298507e+00]),\n",
       " 3: array([0.00000000e+00, 7.38461538e-01, 8.73076923e+00, 1.42615385e+01,\n",
       "        1.41461538e+01, 7.58461538e+00, 8.69230769e-01, 7.69230769e-03,\n",
       "        1.53846154e-02, 4.68461538e+00, 1.27307692e+01, 8.89230769e+00,\n",
       "        1.12230769e+01, 1.21000000e+01, 2.18461538e+00, 7.69230769e-03,\n",
       "        7.69230769e-03, 2.32307692e+00, 3.48461538e+00, 3.23846154e+00,\n",
       "        1.17153846e+01, 9.57692308e+00, 8.84615385e-01, 0.00000000e+00,\n",
       "        0.00000000e+00, 3.53846154e-01, 1.50769231e+00, 8.95384615e+00,\n",
       "        1.42153846e+01, 5.74615385e+00, 1.07692308e-01, 0.00000000e+00,\n",
       "        0.00000000e+00, 7.69230769e-02, 1.06923077e+00, 5.50000000e+00,\n",
       "        1.20769231e+01, 1.11538462e+01, 2.26153846e+00, 0.00000000e+00,\n",
       "        0.00000000e+00, 3.38461538e-01, 1.23076923e+00, 1.02307692e+00,\n",
       "        4.45384615e+00, 1.22384615e+01, 6.54615385e+00, 0.00000000e+00,\n",
       "        0.00000000e+00, 7.30769231e-01, 6.71538462e+00, 6.11538462e+00,\n",
       "        8.15384615e+00, 1.29076923e+01, 6.15384615e+00, 9.23076923e-02,\n",
       "        0.00000000e+00, 5.53846154e-01, 9.76923077e+00, 1.46384615e+01,\n",
       "        1.37692308e+01, 8.53076923e+00, 1.42307692e+00, 8.46153846e-02]),\n",
       " 4: array([0.00000000e+00, 0.00000000e+00, 5.75757576e-01, 7.37121212e+00,\n",
       "        1.10909091e+01, 1.75757576e+00, 1.74242424e-01, 1.66666667e-01,\n",
       "        0.00000000e+00, 8.33333333e-02, 3.85606061e+00, 1.31590909e+01,\n",
       "        7.82575758e+00, 1.95454545e+00, 1.15909091e+00, 2.42424242e-01,\n",
       "        0.00000000e+00, 8.56060606e-01, 1.06287879e+01, 1.08333333e+01,\n",
       "        4.79545455e+00, 5.80303030e+00, 3.97727273e+00, 3.18181818e-01,\n",
       "        7.57575758e-03, 4.64393939e+00, 1.42803030e+01, 6.21212121e+00,\n",
       "        7.30303030e+00, 1.05984848e+01, 6.28787879e+00, 2.27272727e-02,\n",
       "        0.00000000e+00, 8.34848485e+00, 1.43939394e+01, 9.51515152e+00,\n",
       "        1.28030303e+01, 1.35909091e+01, 5.12121212e+00, 0.00000000e+00,\n",
       "        1.06060606e-01, 6.15151515e+00, 1.09166667e+01, 1.21287879e+01,\n",
       "        1.43863636e+01, 1.02272727e+01, 1.54545455e+00, 0.00000000e+00,\n",
       "        6.81818182e-02, 1.18181818e+00, 3.09090909e+00, 8.13636364e+00,\n",
       "        1.30909091e+01, 4.10606061e+00, 1.51515152e-02, 0.00000000e+00,\n",
       "        0.00000000e+00, 7.57575758e-03, 6.74242424e-01, 8.21212121e+00,\n",
       "        1.14166667e+01, 1.91666667e+00, 0.00000000e+00, 0.00000000e+00]),\n",
       " 5: array([0.00000000e+00, 9.16666667e-01, 9.70138889e+00, 1.28194444e+01,\n",
       "        1.37291667e+01, 1.19861111e+01, 4.11805556e+00, 3.47222222e-02,\n",
       "        6.94444444e-03, 3.84027778e+00, 1.47430556e+01, 1.21180556e+01,\n",
       "        8.32638889e+00, 6.28472222e+00, 2.22916667e+00, 2.08333333e-02,\n",
       "        0.00000000e+00, 5.46527778e+00, 1.43958333e+01, 5.97222222e+00,\n",
       "        2.11805556e+00, 7.01388889e-01, 6.94444444e-02, 0.00000000e+00,\n",
       "        0.00000000e+00, 5.31944444e+00, 1.42152778e+01, 1.20416667e+01,\n",
       "        9.15972222e+00, 4.47222222e+00, 4.65277778e-01, 0.00000000e+00,\n",
       "        0.00000000e+00, 1.75000000e+00, 7.31250000e+00, 8.32638889e+00,\n",
       "        8.74305556e+00, 7.86111111e+00, 2.03472222e+00, 0.00000000e+00,\n",
       "        0.00000000e+00, 2.36111111e-01, 1.25000000e+00, 3.61805556e+00,\n",
       "        7.08333333e+00, 8.28472222e+00, 2.59722222e+00, 0.00000000e+00,\n",
       "        0.00000000e+00, 8.75000000e-01, 5.77083333e+00, 8.19444444e+00,\n",
       "        1.06041667e+01, 7.61111111e+00, 1.43055556e+00, 0.00000000e+00,\n",
       "        0.00000000e+00, 9.02777778e-01, 1.03472222e+01, 1.47430556e+01,\n",
       "        9.52083333e+00, 2.68750000e+00, 2.08333333e-01, 0.00000000e+00]),\n",
       " 6: array([0.00000000e+00, 0.00000000e+00, 1.21985816e+00, 1.11418440e+01,\n",
       "        9.74468085e+00, 1.56737589e+00, 7.09219858e-03, 0.00000000e+00,\n",
       "        0.00000000e+00, 3.54609929e-02, 7.36879433e+00, 1.44680851e+01,\n",
       "        6.23404255e+00, 9.43262411e-01, 2.83687943e-02, 0.00000000e+00,\n",
       "        0.00000000e+00, 8.22695035e-01, 1.28794326e+01, 9.30496454e+00,\n",
       "        8.22695035e-01, 1.34751773e-01, 7.09219858e-03, 0.00000000e+00,\n",
       "        0.00000000e+00, 2.50354610e+00, 1.38085106e+01, 7.70212766e+00,\n",
       "        3.64539007e+00, 1.97163121e+00, 1.56028369e-01, 0.00000000e+00,\n",
       "        0.00000000e+00, 3.83687943e+00, 1.48652482e+01, 1.28652482e+01,\n",
       "        1.21773050e+01, 1.03829787e+01, 2.63120567e+00, 0.00000000e+00,\n",
       "        0.00000000e+00, 2.00709220e+00, 1.48156028e+01, 1.07021277e+01,\n",
       "        5.76595745e+00, 1.04609929e+01, 9.12765957e+00, 1.84397163e-01,\n",
       "        0.00000000e+00, 1.84397163e-01, 1.05319149e+01, 1.25886525e+01,\n",
       "        5.51773050e+00, 1.13617021e+01, 1.06382979e+01, 5.10638298e-01,\n",
       "        0.00000000e+00, 0.00000000e+00, 1.48936170e+00, 1.07092199e+01,\n",
       "        1.50709220e+01, 1.29645390e+01, 4.55319149e+00, 6.38297872e-02]),\n",
       " 7: array([0.00000000e+00, 1.46153846e-01, 5.00000000e+00, 1.31076923e+01,\n",
       "        1.45538462e+01, 1.14153846e+01, 4.67692308e+00, 7.15384615e-01,\n",
       "        0.00000000e+00, 8.61538462e-01, 1.04615385e+01, 1.16307692e+01,\n",
       "        1.10153846e+01, 1.27384615e+01, 4.96923077e+00, 4.84615385e-01,\n",
       "        0.00000000e+00, 7.53846154e-01, 4.89230769e+00, 2.25384615e+00,\n",
       "        7.16153846e+00, 1.13000000e+01, 2.93846154e+00, 1.00000000e-01,\n",
       "        0.00000000e+00, 6.92307692e-01, 4.62307692e+00, 6.30769231e+00,\n",
       "        1.22538462e+01, 1.23000000e+01, 5.18461538e+00, 0.00000000e+00,\n",
       "        0.00000000e+00, 1.74615385e+00, 9.27692308e+00, 1.33769231e+01,\n",
       "        1.48230769e+01, 1.15615385e+01, 4.54615385e+00, 0.00000000e+00,\n",
       "        0.00000000e+00, 1.32307692e+00, 5.26923077e+00, 1.16692308e+01,\n",
       "        1.09692308e+01, 4.23846154e+00, 7.07692308e-01, 0.00000000e+00,\n",
       "        0.00000000e+00, 8.46153846e-02, 2.93846154e+00, 1.23846154e+01,\n",
       "        5.99230769e+00, 2.15384615e-01, 0.00000000e+00, 0.00000000e+00,\n",
       "        0.00000000e+00, 1.23076923e-01, 6.16153846e+00, 1.19230769e+01,\n",
       "        2.18461538e+00, 7.69230769e-03, 0.00000000e+00, 0.00000000e+00]),\n",
       " 8: array([0.00000000e+00, 1.50793651e-01, 4.89682540e+00, 1.13412698e+01,\n",
       "        1.26349206e+01, 6.84920635e+00, 6.58730159e-01, 0.00000000e+00,\n",
       "        2.38095238e-02, 1.91269841e+00, 1.22857143e+01, 1.13888889e+01,\n",
       "        8.75396825e+00, 1.19047619e+01, 2.73809524e+00, 0.00000000e+00,\n",
       "        7.93650794e-03, 2.88888889e+00, 1.16746032e+01, 7.52380952e+00,\n",
       "        7.76984127e+00, 1.17380952e+01, 2.23015873e+00, 0.00000000e+00,\n",
       "        0.00000000e+00, 1.15079365e+00, 8.55555556e+00, 1.31587302e+01,\n",
       "        1.32698413e+01, 7.23809524e+00, 4.84126984e-01, 0.00000000e+00,\n",
       "        0.00000000e+00, 4.92063492e-01, 6.97619048e+00, 1.39206349e+01,\n",
       "        1.29047619e+01, 4.42857143e+00, 1.19047619e-01, 0.00000000e+00,\n",
       "        0.00000000e+00, 1.31746032e+00, 1.08571429e+01, 8.42063492e+00,\n",
       "        9.20634921e+00, 8.45238095e+00, 1.28571429e+00, 0.00000000e+00,\n",
       "        0.00000000e+00, 1.01587302e+00, 1.06984127e+01, 8.41269841e+00,\n",
       "        8.29365079e+00, 9.70634921e+00, 2.35714286e+00, 0.00000000e+00,\n",
       "        0.00000000e+00, 1.74603175e-01, 4.80952381e+00, 1.24285714e+01,\n",
       "        1.31904762e+01, 7.18253968e+00, 1.42857143e+00, 1.58730159e-02]),\n",
       " 9: array([ 0.        ,  0.13432836,  5.92537313, 11.79850746, 10.97014925,\n",
       "         5.82835821,  1.63432836,  0.14925373,  0.        ,  2.46268657,\n",
       "        12.64925373,  9.35074627, 10.07462687, 11.06716418,  2.64925373,\n",
       "         0.14925373,  0.        ,  3.65671642, 12.41791045,  5.91791045,\n",
       "         8.12686567, 13.97761194,  3.31343284,  0.05970149,  0.        ,\n",
       "         2.04477612, 10.41044776, 12.11940299, 13.2238806 , 13.99253731,\n",
       "         3.79104478,  0.        ,  0.        ,  0.17910448,  3.11940299,\n",
       "         5.23134328,  5.2761194 , 11.76865672,  4.75373134,  0.        ,\n",
       "         0.        ,  0.20149254,  0.54477612,  0.51492537,  2.50746269,\n",
       "         9.78358209,  5.79850746,  0.02985075,  0.        ,  0.53731343,\n",
       "         5.81343284,  4.56716418,  5.70895522, 10.3358209 ,  5.23134328,\n",
       "         0.12686567,  0.        ,  0.08955224,  5.91791045, 12.02238806,\n",
       "        13.05970149,  8.82835821,  2.1641791 ,  0.06716418])}"
      ]
     },
     "execution_count": 71,
     "metadata": {},
     "output_type": "execute_result"
    }
   ],
   "source": [
    "centers"
   ]
  },
  {
   "cell_type": "code",
   "execution_count": 87,
   "id": "849b5561-c510-4cf1-9f45-e942aeb512e8",
   "metadata": {},
   "outputs": [
    {
     "data": {
      "image/png": "[encoded data removed]",
      "text/plain": [
       "<Figure size 640x480 with 10 Axes>"
      ]
     },
     "metadata": {},
     "output_type": "display_data"
    }
   ],
   "source": [
    "index=0\n",
    "for i in range(2):\n",
    "    for j in  range(5):\n",
    "        ax=plt.subplot2grid((2,5),(i,j))\n",
    "        ax.imshow(np.reshape(centers[index],(8,8)),cmap='grey')\n",
    "        index+=1"
   ]
  },
  {
   "cell_type": "code",
   "execution_count": 125,
   "id": "0a1fbe9b-98a3-4715-9570-0ef6f099723a",
   "metadata": {},
   "outputs": [],
   "source": [
    "def simple_classifier(centers,z):\n",
    "    min=np.inf\n",
    "    label=-1\n",
    "    for i in range(10):\n",
    "        d=np.linalg.norm(centers[i]-z)\n",
    "        if d<min:\n",
    "            label=i\n",
    "            min=d\n",
    "    return label"
   ]
  },
  {
   "cell_type": "code",
   "execution_count": 127,
   "id": "3c615d59-dd9b-4f40-bcfb-b26cbf50b500",
   "metadata": {},
   "outputs": [],
   "source": [
    "y_pred=[]\n",
    "for i in range(x_test.shape[0]):\n",
    "    y_pred.append(simple_classifier(centers,x_test[i,:]))\n",
    "y_pred=np.asarray(y_pred)"
   ]
  },
  {
   "cell_type": "code",
   "execution_count": 129,
   "id": "be99bacc-8d35-4fb1-8176-81cd23abda39",
   "metadata": {},
   "outputs": [
    {
     "name": "stdout",
     "output_type": "stream",
     "text": [
      "0.9088888888888889\n"
     ]
    }
   ],
   "source": [
    "from sklearn.metrics import accuracy_score as ac\n",
    "print(ac(y_test,y_pred))"
   ]
  },
  {
   "cell_type": "code",
   "execution_count": 145,
   "id": "18a98c19-3892-459a-8d5c-e359a6b1bd96",
   "metadata": {},
   "outputs": [
    {
     "name": "stdout",
     "output_type": "stream",
     "text": [
      "poly 0.9866666666666667\n",
      "linear 0.9777777777777777\n",
      "rbf 0.9933333333333333\n",
      "sigmoid 0.8155555555555556\n"
     ]
    }
   ],
   "source": [
    "from sklearn.svm import SVC as sv\n",
    "for i in ['poly','linear','rbf','sigmoid']:\n",
    "    model=sv(decision_function_shape='ovr',kernel=i,C=10)\n",
    "    model.fit(x_train,y_train)\n",
    "    y_pred=model.predict(x_test)\n",
    "    print(i,ac(y_test,y_pred))"
   ]
  },
  {
   "cell_type": "code",
   "execution_count": 153,
   "id": "9cff8969-a327-448e-a116-a9f5b0a07743",
   "metadata": {},
   "outputs": [
    {
     "name": "stdout",
     "output_type": "stream",
     "text": [
      "poly 0.9866442329270593\n",
      "linear 0.9780964559420304\n",
      "rbf 0.9934501365432181\n",
      "sigmoid 0.8226789066606226\n"
     ]
    }
   ],
   "source": [
    "from sklearn.metrics import f1_score as ac\n",
    "from sklearn.svm import SVC as sv\n",
    "for i in ['poly','linear','rbf','sigmoid']:\n",
    "    model=sv(decision_function_shape='ovr',kernel=i,C=10)\n",
    "    model.fit(x_train,y_train)\n",
    "    y_pred=model.predict(x_test)\n",
    "    print(i,ac(y_test,y_pred,average='macro'))"
   ]
  },
  {
   "cell_type": "code",
   "execution_count": null,
   "id": "cd3f4459-1adc-4452-b2ce-4a9e808c780c",
   "metadata": {},
   "outputs": [],
   "source": []
  }
 ],
 "metadata": {
  "kernelspec": {
   "display_name": "Python 3 (ipykernel)",
   "language": "python",
   "name": "python3"
  },
  "language_info": {
   "codemirror_mode": {
    "name": "ipython",
    "version": 3
   },
   "file_extension": ".py",
   "mimetype": "text/x-python",
   "name": "python",
   "nbconvert_exporter": "python",
   "pygments_lexer": "ipython3",
   "version": "3.11.7"
  }
 },
 "nbformat": 4,
 "nbformat_minor": 5
}
